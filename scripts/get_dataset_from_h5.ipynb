{
 "cells": [
  {
   "cell_type": "code",
   "execution_count": 1,
   "metadata": {
    "metadata": {}
   },
   "outputs": [],
   "source": [
    "import numpy as np\n",
    "from sys import stdout\n",
    "import h5py\n",
    "import torch"
   ]
  },
  {
   "cell_type": "code",
   "execution_count": 2,
   "metadata": {
    "metadata": {}
   },
   "outputs": [],
   "source": [
    "aqm = h5py.File(\"/mnt/petrelfs/linchen/FoundationalModel/data/aqm/AQM-sol.hdf5\", \"r\")\n",
    "AQMmol_ids = list(aqm.keys()) "
   ]
  },
  {
   "cell_type": "code",
   "execution_count": 4,
   "metadata": {
    "metadata": {}
   },
   "outputs": [],
   "source": [
    "import ase\n",
    "from ase import atoms\n",
    "\n",
    "\n",
    "\n"
   ]
  },
  {
   "cell_type": "markdown",
   "metadata": {},
   "source": []
  },
  {
   "cell_type": "code",
   "execution_count": 13,
   "metadata": {
    "metadata": {}
   },
   "outputs": [],
   "source": [
    "from typing import Dict, List, Optional, Tuple\n",
    "import dataclasses\n",
    "from mace import data, modules\n",
    "import logging\n",
    "from dataclasses import dataclass\n",
    "\n",
    "from mace.data.utils import config_from_atoms_list\n",
    "\n",
    "@dataclasses.dataclass\n",
    "class SubsetCollection:\n",
    "    train: data.Configurations\n",
    "    valid: data.Configurations\n",
    "    tests: List[Tuple[str, data.Configurations]]\n",
    "\n",
    "def get_dataset_from_h5(\n",
    "    train_path: str,\n",
    "    valid_path: str,\n",
    "    valid_fraction: float,\n",
    "    config_type_weights: Dict,\n",
    "    test_path: str = None,\n",
    "    seed: int = 1234,\n",
    "    keep_isolated_atoms: bool = False,\n",
    "    h5_positions_key: str = 'atXYZ',\n",
    "    h5_numbers_key: str = \"atNUM\",\n",
    "    h5_energy_key: str = 'ePBE0+MBD',\n",
    "    h5_forces_key: str = 'totFOR', \n",
    "    ) -> Tuple[SubsetCollection, Optional[Dict[int, float]]]:\n",
    "    \"\"\"Load training and test dataset from xyz file\"\"\"\n",
    "    atomic_energies_dict, all_train_configs, heads = load_from_h5(\n",
    "        file_path=train_path,\n",
    "        config_type_weights=config_type_weights,\n",
    "        h5_positions_key=h5_positions_key,\n",
    "        h5_numbers_key=h5_numbers_key,\n",
    "        h5_energy_key=h5_energy_key,\n",
    "        h5_forces_key=h5_forces_key,\n",
    "    )\n",
    "    logging.info(\n",
    "        f\"Loaded {len(all_train_configs)} training configurations from '{train_path}'\"\n",
    "    )\n",
    "    if valid_path is not None:\n",
    "        _, valid_configs, _ = load_from_h5(\n",
    "            file_path=valid_path,\n",
    "            config_type_weights=config_type_weights,\n",
    "            h5_positions_key=h5_positions_key,\n",
    "            h5_numbers_key=h5_numbers_key,\n",
    "            h5_energy_key=h5_energy_key,\n",
    "            h5_forces_key=h5_forces_key,\n",
    "        )\n",
    "        logging.info(\n",
    "            f\"Loaded {len(valid_configs)} validation configurations from '{valid_path}'\"\n",
    "        )\n",
    "        train_configs = all_train_configs\n",
    "    else:\n",
    "        logging.info(\n",
    "            \"Using random %s%% of training set for validation\", 100 * valid_fraction\n",
    "        )\n",
    "        train_configs, valid_configs = [], []\n",
    "        for head in heads:\n",
    "            all_train_configs_head = [\n",
    "                config for config in all_train_configs if config.head == head\n",
    "            ]\n",
    "            train_configs_head, valid_configs_head = data.random_train_valid_split(\n",
    "                all_train_configs_head, valid_fraction, seed\n",
    "            )\n",
    "            train_configs.extend(train_configs_head)\n",
    "            valid_configs.extend(valid_configs_head)\n",
    "\n",
    "    test_configs = []\n",
    "    if test_path is not None:\n",
    "        _, all_test_configs, _ = load_from_h5(\n",
    "            file_path=test_path,\n",
    "            config_type_weights=config_type_weights,\n",
    "            h5_positions_key=h5_positions_key,\n",
    "            h5_numbers_key=h5_numbers_key,\n",
    "            h5_energy_key=h5_energy_key,\n",
    "            h5_forces_key=h5_forces_key,\n",
    "        )\n",
    "        # create list of tuples (config_type, list(Atoms))\n",
    "        test_configs = data.test_config_types(all_test_configs)\n",
    "        logging.info(\n",
    "            f\"Loaded {len(all_test_configs)} test configurations from '{test_path}'\"\n",
    "        )\n",
    "    return (\n",
    "        SubsetCollection(train=train_configs, valid=valid_configs, tests=test_configs),\n",
    "        atomic_energies_dict,\n",
    "        heads,\n",
    "    )\n",
    "\n",
    "from mace.tools import AtomicNumberTable\n",
    "\n",
    "Vector = np.ndarray  # [3,]\n",
    "Positions = np.ndarray  # [..., 3]\n",
    "Forces = np.ndarray  # [..., 3]\n",
    "Stress = np.ndarray  # [6, ], [3,3], [9, ]\n",
    "Virials = np.ndarray  # [6, ], [3,3], [9, ]\n",
    "Charges = np.ndarray  # [..., 1]\n",
    "Cell = np.ndarray  # [3,3]\n",
    "Pbc = tuple  # (3,)\n",
    "\n",
    "DEFAULT_CONFIG_TYPE = \"Default\"\n",
    "DEFAULT_CONFIG_TYPE_WEIGHTS = {DEFAULT_CONFIG_TYPE: 1.0}\n",
    "\n",
    "@dataclass\n",
    "class Configuration:\n",
    "    atomic_numbers: np.ndarray\n",
    "    positions: Positions  # Angstrom\n",
    "    energy: Optional[float] = None  # eV\n",
    "    forces: Optional[Forces] = None  # eV/Angstrom\n",
    "    stress: Optional[Stress] = None  # eV/Angstrom^3\n",
    "    virials: Optional[Virials] = None  # eV\n",
    "    dipole: Optional[Vector] = None  # Debye\n",
    "    charges: Optional[Charges] = None  # atomic unit\n",
    "    cell: Optional[Cell] = None\n",
    "    pbc: Optional[Pbc] = None\n",
    "\n",
    "    weight: float = 1.0  # weight of config in loss\n",
    "    energy_weight: float = 1.0  # weight of config energy in loss\n",
    "    forces_weight: float = 1.0  # weight of config forces in loss\n",
    "    stress_weight: float = 1.0  # weight of config stress in loss\n",
    "    virials_weight: float = 1.0  # weight of config virial in loss\n",
    "    config_type: Optional[str] = DEFAULT_CONFIG_TYPE  # config_type of config\n",
    "    head: Optional[str] = \"Default\"  # head used to compute the config\n",
    "\n",
    "\n",
    "Configurations = List[Configuration]\n",
    "\n",
    "def load_from_h5(\n",
    "    file_path: str,\n",
    "    config_type_weights: Dict,\n",
    "    h5_positions_key: str = 'atXYZ',\n",
    "    h5_numbers_key: str = \"atNUM\",\n",
    "    h5_energy_key: str = 'ePBE0+MBD',\n",
    "    h5_forces_key: str = 'totFOR',\n",
    ") -> Tuple[Dict[int, float], Configurations]:\n",
    "    atoms_list = atoms_from_hdf5(\n",
    "        file_path, \n",
    "        positions_key=h5_positions_key,\n",
    "        numbers_key=h5_numbers_key,\n",
    "        energy_key=h5_energy_key,\n",
    "        forces_key=h5_forces_key\n",
    "    )\n",
    "\n",
    "\n",
    "    atomic_energies_dict = {}\n",
    "\n",
    "    heads = set()\n",
    "    for atoms in atoms_list:\n",
    "        heads.add(atoms.info.get(\"head\", \"Default\"))\n",
    "    heads = list(heads)\n",
    "\n",
    "    configs = config_from_atoms_list(\n",
    "        atoms_list,\n",
    "        config_type_weights=config_type_weights,\n",
    "        energy_key=\"energy\",\n",
    "        forces_key=\"forces\",\n",
    "        stress_key=\"stress\",\n",
    "        virials_key=\"virials\",\n",
    "        dipole_key=\"dipole\",\n",
    "        charges_key=\"charges\",\n",
    "        head_key=\"head\",\n",
    "    )\n",
    "    return atomic_energies_dict, configs, heads\n",
    "\n",
    "def atoms_from_hdf5(file_path, positions_key='atXYZ', numbers_key=\"atNUM\", energy_key='ePBE0+MBD', forces_key='totFOR'):\n",
    "    aqm = h5py.File(file_path, \"r\")\n",
    "    atoms_list = []\n",
    "    AQMmol_ids = list(aqm.keys())\n",
    "\n",
    "    for molid in AQMmol_ids:\n",
    "        AQMconf_ids = list(aqm[molid].keys())\n",
    "        for confid in AQMconf_ids:\n",
    "            curr_cfg = aqm[molid][confid]\n",
    "            atoms = ase.Atoms(positions=np.array(curr_cfg[positions_key]), numbers=np.array(curr_cfg[numbers_key]))\n",
    "            atoms.info['energy'] = np.array(curr_cfg[energy_key]).item()\n",
    "            atoms.arrays['forces'] = np.array(curr_cfg[forces_key])\n",
    "            # atoms.info['head'] = \"Default\"\n",
    "            atoms_list.append(atoms)\n",
    "\n",
    "    return atoms_list"
   ]
  },
  {
   "cell_type": "code",
   "execution_count": 14,
   "metadata": {
    "metadata": {}
   },
   "outputs": [],
   "source": [
    "collections, atomic_energies_dict, heads = get_dataset_from_h5(train_path=\"/mnt/petrelfs/linchen/FoundationalModel/data/aqm/AQM-gas.hdf5\", valid_path=None, valid_fraction=0.05, config_type_weights = {\"Default\": 1.0})"
   ]
  },
  {
   "cell_type": "code",
   "execution_count": 15,
   "metadata": {
    "metadata": {}
   },
   "outputs": [
    {
     "data": {
      "text/plain": [
       "Configuration(atomic_numbers=array([6, 1, 1, 1, 8, 6, 6, 6, 6, 6, 6, 1, 1, 6, 7, 7, 6, 6, 6, 6, 1, 1,\n",
       "       1, 6, 1, 1, 1, 7, 6, 1, 6, 7, 6, 7, 6, 6, 6, 7, 1, 6, 6, 1, 1, 1,\n",
       "       6, 1, 1, 1, 8, 1, 6, 9, 9, 9, 6, 1, 6, 1, 1, 1, 1, 1, 1, 1, 1]), positions=array([[ 1.0700636e+01,  2.3041720e+00, -9.1733000e-01],\n",
       "       [ 1.1663771e+01,  2.7014630e+00, -5.8402300e-01],\n",
       "       [ 1.0879353e+01,  1.4294920e+00, -1.5624940e+00],\n",
       "       [ 1.0180701e+01,  3.0755490e+00, -1.5067480e+00],\n",
       "       [ 9.9625250e+00,  1.9519610e+00,  2.3677800e-01],\n",
       "       [ 8.7116390e+00,  1.4286700e+00,  8.3497000e-02],\n",
       "       [ 8.1082210e+00,  1.2104870e+00, -1.1688280e+00],\n",
       "       [ 6.8242850e+00,  6.6826300e-01, -1.2257470e+00],\n",
       "       [ 6.1209910e+00,  3.1718200e-01, -6.1006000e-02],\n",
       "       [ 6.7337320e+00,  5.6064300e-01,  1.1834540e+00],\n",
       "       [ 8.0109360e+00,  1.1069670e+00,  1.2607700e+00],\n",
       "       [ 8.4709450e+00,  1.2967830e+00,  2.2261000e+00],\n",
       "       [ 6.1936280e+00,  3.4659500e-01,  2.1026690e+00],\n",
       "       [ 4.7377630e+00, -2.3087100e-01, -1.7248200e-01],\n",
       "       [ 3.9782290e+00,  3.3381200e-01, -1.1351330e+00],\n",
       "       [ 2.6863330e+00, -8.0300000e-04, -1.2666350e+00],\n",
       "       [ 2.1383240e+00, -9.1384900e-01, -4.2681800e-01],\n",
       "       [ 2.9232700e+00, -1.6815720e+00,  4.8296600e-01],\n",
       "       [ 4.2628640e+00, -1.3140550e+00,  6.2264400e-01],\n",
       "       [ 5.1879030e+00, -2.0952400e+00,  1.5177870e+00],\n",
       "       [ 6.2302590e+00, -1.8836100e+00,  1.2961220e+00],\n",
       "       [ 5.0142900e+00, -1.8628270e+00,  2.5702880e+00],\n",
       "       [ 5.0354560e+00, -3.1682210e+00,  1.4015640e+00],\n",
       "       [ 2.3737970e+00, -2.8963740e+00,  1.1885700e+00],\n",
       "       [ 3.1112440e+00, -3.6976700e+00,  1.2079450e+00],\n",
       "       [ 2.1094540e+00, -2.6866830e+00,  2.2274090e+00],\n",
       "       [ 1.4904200e+00, -3.2818910e+00,  6.8680800e-01],\n",
       "       [ 7.5236900e-01, -1.1327180e+00, -6.0056900e-01],\n",
       "       [ 1.2997900e-01, -4.5010500e-01, -1.7440530e+00],\n",
       "       [ 6.7056800e-01, -7.2702700e-01, -2.6599780e+00],\n",
       "       [-1.3387710e+00, -8.3739000e-01, -1.8738200e+00],\n",
       "       [-2.0667770e+00, -4.7302900e-01, -6.6051800e-01],\n",
       "       [-3.4266310e+00, -3.0512000e-01, -6.7576300e-01],\n",
       "       [-4.0456340e+00,  4.0172000e-02,  4.9239600e-01],\n",
       "       [-5.3827420e+00,  2.2164100e-01,  4.8142400e-01],\n",
       "       [-6.1391350e+00,  8.8285000e-02, -7.0621100e-01],\n",
       "       [-5.4091680e+00, -3.0361900e-01, -1.8482550e+00],\n",
       "       [-4.0884700e+00, -5.0844100e-01, -1.8581680e+00],\n",
       "       [-5.9315030e+00, -4.6498000e-01, -2.7982940e+00],\n",
       "       [-7.6648900e+00,  2.9473400e-01, -7.8784500e-01],\n",
       "       [-8.4076720e+00, -1.0363090e+00, -4.9813000e-01],\n",
       "       [-8.1754700e+00, -1.4001230e+00,  4.9868400e-01],\n",
       "       [-9.4847310e+00, -8.9232700e-01, -5.6596700e-01],\n",
       "       [-8.1239530e+00, -1.8004630e+00, -1.2185070e+00],\n",
       "       [-8.1048380e+00,  8.4654500e-01, -2.1692480e+00],\n",
       "       [-9.1572680e+00,  1.1201130e+00, -2.1334260e+00],\n",
       "       [-7.5353690e+00,  1.7343780e+00, -2.4311500e+00],\n",
       "       [-7.9832870e+00,  1.1016800e-01, -2.9602790e+00],\n",
       "       [-8.0252850e+00,  1.2620640e+00,  2.0341500e-01],\n",
       "       [-8.9858850e+00,  1.2895320e+00,  3.0754300e-01],\n",
       "       [-5.9419880e+00,  5.5753200e-01,  1.8788010e+00],\n",
       "       [-6.2313430e+00,  1.8762180e+00,  2.0437340e+00],\n",
       "       [-7.0632150e+00, -1.6445300e-01,  2.1924780e+00],\n",
       "       [-5.0178520e+00,  2.4396300e-01,  2.8391710e+00],\n",
       "       [-1.2885330e+00, -3.2565300e-01,  5.6561700e-01],\n",
       "       [-9.0377800e-01,  7.0728300e-01,  6.6593600e-01],\n",
       "       [-1.2138600e-01, -1.3189670e+00,  5.7166900e-01],\n",
       "       [-5.3266600e-01, -2.3473870e+00,  6.0130900e-01],\n",
       "       [ 4.6192400e-01, -1.1839890e+00,  1.4901270e+00],\n",
       "       [-1.9441710e+00, -5.0619600e-01,  1.4261730e+00],\n",
       "       [-1.7915240e+00, -3.2505500e-01, -2.7346290e+00],\n",
       "       [-1.4307870e+00, -1.9230130e+00, -2.0732290e+00],\n",
       "       [ 2.1626000e-01,  6.5075300e-01, -1.6518670e+00],\n",
       "       [ 6.3563690e+00,  5.0530900e-01, -2.1934620e+00],\n",
       "       [ 8.6220550e+00,  1.4599870e+00, -2.0920460e+00]]), energy=-47550.428734, forces=array([[-2.207310e-01, -8.848000e-02, -1.686800e-01],\n",
       "       [-2.541290e-01, -1.094420e-01,  7.514500e-02],\n",
       "       [-4.092200e-02,  1.703100e-01,  1.595020e-01],\n",
       "       [ 9.667400e-02, -1.539650e-01,  1.465900e-01],\n",
       "       [-2.455330e-01, -1.067530e-01, -2.833600e-02],\n",
       "       [-3.047400e-02,  6.357000e-03, -2.399000e-01],\n",
       "       [-1.472980e-01, -5.710300e-02,  5.621170e-01],\n",
       "       [ 9.434500e-02, -6.029400e-02,  4.101280e-01],\n",
       "       [-5.200000e-04,  1.373910e-01, -1.882710e-01],\n",
       "       [ 1.783120e-01,  1.278690e-01, -4.819080e-01],\n",
       "       [-1.079420e-01, -3.766200e-02, -4.490970e-01],\n",
       "       [-6.166000e-03,  6.722000e-03, -1.747960e-01],\n",
       "       [ 1.165200e-01,  4.125800e-02, -1.539520e-01],\n",
       "       [-3.621840e-01,  1.558900e-01, -4.260390e-01],\n",
       "       [-7.006670e-01, -8.837730e-01,  7.696170e-01],\n",
       "       [ 8.751750e-01, -5.046740e-01,  1.062083e+00],\n",
       "       [-3.324400e-01,  2.581710e-01, -5.320620e-01],\n",
       "       [ 1.178160e-01,  2.459470e-01, -1.676370e-01],\n",
       "       [-2.471550e-01,  2.333040e-01, -2.776860e-01],\n",
       "       [-1.388480e-01,  7.813700e-02, -1.978440e-01],\n",
       "       [-2.245700e-02,  2.953100e-02, -1.113700e-02],\n",
       "       [-1.744900e-02,  6.656000e-03,  4.249600e-02],\n",
       "       [-4.600700e-02, -5.257000e-03, -8.989000e-03],\n",
       "       [ 9.913000e-02,  2.172900e-01, -2.025250e-01],\n",
       "       [ 3.609900e-02,  2.366900e-02, -6.090000e-03],\n",
       "       [-8.323000e-03,  1.109500e-02,  1.961800e-02],\n",
       "       [-1.832900e-02,  4.560300e-02, -3.104500e-02],\n",
       "       [ 7.275880e-01,  2.597330e-01,  5.003300e-02],\n",
       "       [-2.138200e-02,  1.320920e-01,  1.884330e-01],\n",
       "       [-1.842400e-01,  6.951000e-02,  2.953060e-01],\n",
       "       [-2.253000e-02, -1.715150e-01, -3.121400e-02],\n",
       "       [-7.193510e-01,  8.214600e-02,  5.031600e-02],\n",
       "       [-8.112740e-01,  1.046990e-01,  9.814100e-02],\n",
       "       [-5.962220e-01, -9.694100e-02, -9.332170e-01],\n",
       "       [ 1.240793e+00, -3.647380e-01, -8.240480e-01],\n",
       "       [-4.367330e-01,  1.815350e-01,  3.839130e-01],\n",
       "       [ 7.118820e-01,  1.284690e-01,  8.323220e-01],\n",
       "       [-1.751980e-01,  2.168300e-01,  8.635880e-01],\n",
       "       [ 2.781770e-01,  6.633200e-02,  3.461940e-01],\n",
       "       [-5.292630e-01, -3.787600e-02, -9.090800e-02],\n",
       "       [ 4.231110e-01,  3.870040e-01, -1.330010e-01],\n",
       "       [ 7.270900e-02,  3.154800e-02,  4.035600e-02],\n",
       "       [-1.283390e-01,  9.374400e-02, -6.596300e-02],\n",
       "       [ 2.467100e-02, -5.524400e-02, -9.504700e-02],\n",
       "       [ 3.784910e-01, -3.114860e-01,  4.495940e-01],\n",
       "       [-9.922700e-02, -4.786600e-02,  9.127800e-02],\n",
       "       [ 7.961000e-02,  8.536600e-02,  4.745900e-02],\n",
       "       [-9.624000e-03, -8.165900e-02, -7.802900e-02],\n",
       "       [ 2.764000e-03, -8.906700e-02, -4.311320e-01],\n",
       "       [ 4.720170e-01, -1.837150e-01, -1.786880e-01],\n",
       "       [-1.308680e-01,  1.318850e-01,  1.210111e+00],\n",
       "       [ 4.128110e-01, -1.366614e+00, -1.909690e-01],\n",
       "       [ 1.281927e+00,  6.755710e-01, -2.782350e-01],\n",
       "       [-1.058427e+00,  3.408200e-01, -1.020665e+00],\n",
       "       [ 6.417900e-02,  6.468400e-02,  4.594000e-03],\n",
       "       [-1.249200e-01, -3.267690e-01, -8.278300e-02],\n",
       "       [-7.817600e-02, -7.348000e-03, -2.457070e-01],\n",
       "       [ 1.392940e-01,  3.777830e-01, -7.418500e-02],\n",
       "       [-1.732890e-01,  8.253100e-02, -2.198680e-01],\n",
       "       [ 1.531650e-01,  9.665000e-03, -2.568560e-01],\n",
       "       [ 1.860160e-01, -1.054180e-01,  2.939020e-01],\n",
       "       [ 1.344700e-02,  3.395520e-01,  1.207670e-01],\n",
       "       [ 5.308000e-03, -3.934980e-01, -2.627700e-02],\n",
       "       [ 3.425300e-02,  3.316100e-02,  2.027940e-01],\n",
       "       [-6.964800e-02, -4.270200e-02,  1.863900e-01]]), stress=array([0., 0., 0., 0., 0., 0.]), virials=array([[0., 0., 0.],\n",
       "       [0., 0., 0.],\n",
       "       [0., 0., 0.]]), dipole=array([0., 0., 0.]), charges=array([0., 0., 0., 0., 0., 0., 0., 0., 0., 0., 0., 0., 0., 0., 0., 0., 0.,\n",
       "       0., 0., 0., 0., 0., 0., 0., 0., 0., 0., 0., 0., 0., 0., 0., 0., 0.,\n",
       "       0., 0., 0., 0., 0., 0., 0., 0., 0., 0., 0., 0., 0., 0., 0., 0., 0.,\n",
       "       0., 0., 0., 0., 0., 0., 0., 0., 0., 0., 0., 0., 0., 0.]), cell=array([[0., 0., 0.],\n",
       "       [0., 0., 0.],\n",
       "       [0., 0., 0.]]), pbc=(False, False, False), weight=1.0, energy_weight=1.0, forces_weight=1.0, stress_weight=0.0, virials_weight=0.0, config_type='Default', head='Default')"
      ]
     },
     "execution_count": 15,
     "metadata": {},
     "output_type": "execute_result"
    }
   ],
   "source": [
    "collections.train[0]"
   ]
  },
  {
   "cell_type": "code",
   "execution_count": 19,
   "metadata": {
    "metadata": {}
   },
   "outputs": [
    {
     "name": "stderr",
     "output_type": "stream",
     "text": [
      "  0%|          | 0/59 [00:00<?, ?it/s]"
     ]
    },
    {
     "name": "stdout",
     "output_type": "stream",
     "text": [
      "(2, 3)\n",
      "(2,)\n",
      "-113.278573616\n",
      "(2, 3)\n"
     ]
    },
    {
     "name": "stderr",
     "output_type": "stream",
     "text": [
      "\n"
     ]
    }
   ],
   "source": [
    "import h5py\n",
    "from tqdm import tqdm\n",
    "import numpy as np\n",
    "\n",
    "# ds_path = '/mnt/petrelfs/linchen/FoundationalModel/data/ani-2x/final_h5/ANI-2x-wB97X-def2TZVPP.h5'\n",
    "\n",
    "# su = 0\n",
    "# with h5py.File(ds_path) as h5:\n",
    "#     for num_atoms, properties in tqdm(h5.items()):        #Iterate thorugh like a dictionary\n",
    "#         coordinates = properties['coordinates']     #Output of properties is of type h5py Dataset\n",
    "#         species = properties['species']\n",
    "#         print(coordinates)\n",
    "#         su += np.array(coordinates).shape[0]\n",
    "# print(su)\n",
    "\n",
    "ds_path = '/mnt/petrelfs/linchen/FoundationalModel/data/ani-2x/final_h5/ANI-2x-wB97X-631Gd.h5'\n",
    "with h5py.File(ds_path) as h5:\n",
    "    for num_atoms, properties in tqdm(h5.items()):        #Iterate thorugh like a dictionary\n",
    "        coordinates = np.array(properties['coordinates'])   #Output of properties is of type h5py Dataset\n",
    "        species = np.array(properties['species'])\n",
    "        energies = np.array(properties['energies'])\n",
    "        forces = np.array(properties['forces'])\n",
    "        # print(coordinates)\n",
    "        # print(species)\n",
    "        # print(energies)\n",
    "        # print(forces)\n",
    "        break\n",
    "\n",
    "for c, s, e, f in zip(coordinates, species, energies, forces):\n",
    "    print(c.shape)\n",
    "    print(s.shape)\n",
    "    print(e)\n",
    "    print(f.shape)\n",
    "    break\n",
    "\n"
   ]
  },
  {
   "cell_type": "code",
   "execution_count": 29,
   "metadata": {
    "metadata": {}
   },
   "outputs": [],
   "source": [
    "from typing import Dict, List, Optional, Tuple\n",
    "import dataclasses\n",
    "from mace import data, modules\n",
    "import logging\n",
    "from dataclasses import dataclass\n",
    "\n",
    "from mace.data.utils import config_from_atoms_list\n",
    "\n",
    "@dataclasses.dataclass\n",
    "class SubsetCollection:\n",
    "    train: data.Configurations\n",
    "    valid: data.Configurations\n",
    "    tests: List[Tuple[str, data.Configurations]]\n",
    "\n",
    "def get_dataset_from_h5(\n",
    "    train_path: str,\n",
    "    valid_path: str,\n",
    "    valid_fraction: float,\n",
    "    config_type_weights: Dict,\n",
    "    test_path: str = None,\n",
    "    seed: int = 1234,\n",
    "    keep_isolated_atoms: bool = False,\n",
    "    h5_positions_key: str = 'atXYZ',\n",
    "    h5_numbers_key: str = \"atNUM\",\n",
    "    h5_energy_key: str = 'ePBE0+MBD',\n",
    "    h5_forces_key: str = 'totFOR', \n",
    "    ) -> Tuple[SubsetCollection, Optional[Dict[int, float]]]:\n",
    "    \"\"\"Load training and test dataset from xyz file\"\"\"\n",
    "    atomic_energies_dict, all_train_configs, heads = load_from_h5(\n",
    "        file_path=train_path,\n",
    "        config_type_weights=config_type_weights,\n",
    "        h5_positions_key=h5_positions_key,\n",
    "        h5_numbers_key=h5_numbers_key,\n",
    "        h5_energy_key=h5_energy_key,\n",
    "        h5_forces_key=h5_forces_key,\n",
    "    )\n",
    "    logging.info(\n",
    "        f\"Loaded {len(all_train_configs)} training configurations from '{train_path}'\"\n",
    "    )\n",
    "    if valid_path is not None:\n",
    "        _, valid_configs, _ = load_from_h5(\n",
    "            file_path=valid_path,\n",
    "            config_type_weights=config_type_weights,\n",
    "            h5_positions_key=h5_positions_key,\n",
    "            h5_numbers_key=h5_numbers_key,\n",
    "            h5_energy_key=h5_energy_key,\n",
    "            h5_forces_key=h5_forces_key,\n",
    "        )\n",
    "        logging.info(\n",
    "            f\"Loaded {len(valid_configs)} validation configurations from '{valid_path}'\"\n",
    "        )\n",
    "        train_configs = all_train_configs\n",
    "    else:\n",
    "        logging.info(\n",
    "            \"Using random %s%% of training set for validation\", 100 * valid_fraction\n",
    "        )\n",
    "        train_configs, valid_configs = [], []\n",
    "        for head in heads:\n",
    "            all_train_configs_head = [\n",
    "                config for config in all_train_configs if config.head == head\n",
    "            ]\n",
    "            train_configs_head, valid_configs_head = data.random_train_valid_split(\n",
    "                all_train_configs_head, valid_fraction, seed\n",
    "            )\n",
    "            train_configs.extend(train_configs_head)\n",
    "            valid_configs.extend(valid_configs_head)\n",
    "\n",
    "    test_configs = []\n",
    "    if test_path is not None:\n",
    "        _, all_test_configs, _ = load_from_h5(\n",
    "            file_path=test_path,\n",
    "            config_type_weights=config_type_weights,\n",
    "            h5_positions_key=h5_positions_key,\n",
    "            h5_numbers_key=h5_numbers_key,\n",
    "            h5_energy_key=h5_energy_key,\n",
    "            h5_forces_key=h5_forces_key,\n",
    "        )\n",
    "        # create list of tuples (config_type, list(Atoms))\n",
    "        test_configs = data.test_config_types(all_test_configs)\n",
    "        logging.info(\n",
    "            f\"Loaded {len(all_test_configs)} test configurations from '{test_path}'\"\n",
    "        )\n",
    "    return (\n",
    "        SubsetCollection(train=train_configs, valid=valid_configs, tests=test_configs),\n",
    "        atomic_energies_dict,\n",
    "        heads,\n",
    "    )\n",
    "\n",
    "from mace.tools import AtomicNumberTable\n",
    "\n",
    "Vector = np.ndarray  # [3,]\n",
    "Positions = np.ndarray  # [..., 3]\n",
    "Forces = np.ndarray  # [..., 3]\n",
    "Stress = np.ndarray  # [6, ], [3,3], [9, ]\n",
    "Virials = np.ndarray  # [6, ], [3,3], [9, ]\n",
    "Charges = np.ndarray  # [..., 1]\n",
    "Cell = np.ndarray  # [3,3]\n",
    "Pbc = tuple  # (3,)\n",
    "\n",
    "DEFAULT_CONFIG_TYPE = \"Default\"\n",
    "DEFAULT_CONFIG_TYPE_WEIGHTS = {DEFAULT_CONFIG_TYPE: 1.0}\n",
    "\n",
    "@dataclass\n",
    "class Configuration:\n",
    "    atomic_numbers: np.ndarray\n",
    "    positions: Positions  # Angstrom\n",
    "    energy: Optional[float] = None  # eV\n",
    "    forces: Optional[Forces] = None  # eV/Angstrom\n",
    "    stress: Optional[Stress] = None  # eV/Angstrom^3\n",
    "    virials: Optional[Virials] = None  # eV\n",
    "    dipole: Optional[Vector] = None  # Debye\n",
    "    charges: Optional[Charges] = None  # atomic unit\n",
    "    cell: Optional[Cell] = None\n",
    "    pbc: Optional[Pbc] = None\n",
    "\n",
    "    weight: float = 1.0  # weight of config in loss\n",
    "    energy_weight: float = 1.0  # weight of config energy in loss\n",
    "    forces_weight: float = 1.0  # weight of config forces in loss\n",
    "    stress_weight: float = 1.0  # weight of config stress in loss\n",
    "    virials_weight: float = 1.0  # weight of config virial in loss\n",
    "    config_type: Optional[str] = DEFAULT_CONFIG_TYPE  # config_type of config\n",
    "    head: Optional[str] = \"Default\"  # head used to compute the config\n",
    "\n",
    "\n",
    "Configurations = List[Configuration]\n",
    "\n",
    "def load_from_h5(\n",
    "    file_path: str,\n",
    "    config_type_weights: Dict,\n",
    "    h5_positions_key: str = 'atXYZ',\n",
    "    h5_numbers_key: str = \"atNUM\",\n",
    "    h5_energy_key: str = 'ePBE0+MBD',\n",
    "    h5_forces_key: str = 'totFOR',\n",
    ") -> Tuple[Dict[int, float], Configurations]:\n",
    "    atoms_list = atoms_from_hdf5(\n",
    "        file_path, \n",
    "        positions_key=h5_positions_key,\n",
    "        numbers_key=h5_numbers_key,\n",
    "        energy_key=h5_energy_key,\n",
    "        forces_key=h5_forces_key\n",
    "    )\n",
    "\n",
    "\n",
    "    atomic_energies_dict = {}\n",
    "\n",
    "    heads = set()\n",
    "    for atoms in atoms_list:\n",
    "        heads.add(atoms.info.get(\"head\", \"Default\"))\n",
    "    heads = list(heads)\n",
    "\n",
    "    configs = config_from_atoms_list(\n",
    "        atoms_list,\n",
    "        config_type_weights=config_type_weights,\n",
    "        energy_key=\"energy\",\n",
    "        forces_key=\"forces\",\n",
    "        stress_key=\"stress\",\n",
    "        virials_key=\"virials\",\n",
    "        dipole_key=\"dipole\",\n",
    "        charges_key=\"charges\",\n",
    "        head_key=\"head\",\n",
    "    )\n",
    "    return atomic_energies_dict, configs, heads\n",
    "\n",
    "def atoms_from_hdf5_ani(file_path, positions_key='coordinates', numbers_key=\"species\", energy_key='energies', forces_key='forces'):\n",
    "    file_path = '/mnt/petrelfs/linchen/FoundationalModel/data/ani-2x/final_h5/ANI-2x-wB97X-631Gd.h5'\n",
    "    h5 = h5py.File(file_path, \"r\")\n",
    "    atoms_list = []\n",
    "    for num_atoms, properties in tqdm(h5.items()):        #Iterate thorugh like a dictionary\n",
    "        coordinates = np.array(properties['coordinates'])     #Output of properties is of type h5py Dataset\n",
    "        species = np.array(properties['species'])\n",
    "        energies = np.array(properties['energies'])\n",
    "        forces = np.array(properties['forces'])\n",
    "        for c, s, e, f in zip(coordinates, species, energies, forces):\n",
    "            atoms = ase.Atoms(positions=c, numbers=s)\n",
    "            atoms.info['energy'] = e * ase.units.Hartree # convert to eV\n",
    "            atoms.arrays['forces'] = f  * ase.units.Hartree # convert to eV\n",
    "            atoms_list.append(atoms)\n",
    "    return atoms_list\n",
    "\n",
    "def atoms_from_hdf5(file_path, positions_key='atXYZ', numbers_key=\"atNUM\", energy_key='ePBE0+MBD', forces_key='totFOR'):\n",
    "    aqm = h5py.File(file_path, \"r\")\n",
    "    atoms_list = []\n",
    "    AQMmol_ids = list(aqm.keys())\n",
    "\n",
    "    for molid in AQMmol_ids:\n",
    "        AQMconf_ids = list(aqm[molid].keys())\n",
    "        for confid in AQMconf_ids:\n",
    "            curr_cfg = aqm[molid][confid]\n",
    "            atoms = ase.Atoms(positions=np.array(curr_cfg[positions_key]), numbers=np.array(curr_cfg[numbers_key]))\n",
    "            atoms.info['energy'] = np.array(curr_cfg[energy_key]).item()\n",
    "            atoms.arrays['forces'] = np.array(curr_cfg[forces_key])\n",
    "            # atoms.info['head'] = \"Default\"\n",
    "            atoms_list.append(atoms)\n",
    "\n",
    "    return atoms_list\n"
   ]
  },
  {
   "cell_type": "code",
   "execution_count": 30,
   "metadata": {
    "metadata": {}
   },
   "outputs": [
    {
     "name": "stderr",
     "output_type": "stream",
     "text": [
      "  0%|          | 0/59 [00:00<?, ?it/s]\n"
     ]
    }
   ],
   "source": [
    "import ase\n",
    "al = atoms_from_hdf5_ani(\"shit\")"
   ]
  },
  {
   "cell_type": "code",
   "execution_count": 34,
   "metadata": {
    "metadata": {}
   },
   "outputs": [
    {
     "data": {
      "text/plain": [
       "{'numbers': array([6, 8]),\n",
       " 'positions': array([[ 0.        ,  0.        , -0.66948843],\n",
       "        [ 0.        ,  0.        ,  0.50212127]]),\n",
       " 'forces': array([[-0.        , -0.        ,  4.07651101],\n",
       "        [-0.        , -0.        , -4.07651101]])}"
      ]
     },
     "execution_count": 34,
     "metadata": {},
     "output_type": "execute_result"
    }
   ],
   "source": [
    "al[0].arrays\n"
   ]
  },
  {
   "cell_type": "code",
   "execution_count": 7,
   "metadata": {
    "metadata": {}
   },
   "outputs": [],
   "source": [
    "import ase\n",
    "from ase.io import extxyz\n",
    "\n",
    "identifier = \"/mnt/petrelfs/linchen/FoundationalModel/data/oc20/s2ef_train_2M/s2ef_train_2M/18.extxyz.xz\"\n",
    "data_iter = ase.io.iread(f\"{identifier}\", index=\":\")"
   ]
  },
  {
   "cell_type": "code",
   "execution_count": 9,
   "metadata": {
    "metadata": {}
   },
   "outputs": [
    {
     "ename": "KeyboardInterrupt",
     "evalue": "",
     "output_type": "error",
     "traceback": [
      "\u001b[0;31m---------------------------------------------------------------------------\u001b[0m",
      "\u001b[0;31mKeyboardInterrupt\u001b[0m                         Traceback (most recent call last)",
      "Cell \u001b[0;32mIn[9], line 1\u001b[0m\n\u001b[0;32m----> 1\u001b[0m data \u001b[38;5;241m=\u001b[39m \u001b[38;5;28;43mnext\u001b[39;49m\u001b[43m(\u001b[49m\u001b[43mdata_iter\u001b[49m\u001b[43m)\u001b[49m\n",
      "File \u001b[0;32m~/miniconda3/envs/pl_pyg/lib/python3.9/site-packages/ase/io/formats.py:770\u001b[0m, in \u001b[0;36miread\u001b[0;34m(filename, index, format, parallel, do_not_split_by_at_sign, **kwargs)\u001b[0m\n\u001b[1;32m    767\u001b[0m \u001b[38;5;28mformat\u001b[39m \u001b[38;5;241m=\u001b[39m \u001b[38;5;28mformat\u001b[39m \u001b[38;5;129;01mor\u001b[39;00m filetype(filename, read\u001b[38;5;241m=\u001b[39m\u001b[38;5;28misinstance\u001b[39m(filename, \u001b[38;5;28mstr\u001b[39m))\n\u001b[1;32m    768\u001b[0m io \u001b[38;5;241m=\u001b[39m get_ioformat(\u001b[38;5;28mformat\u001b[39m)\n\u001b[0;32m--> 770\u001b[0m \u001b[38;5;28;01mfor\u001b[39;00m atoms \u001b[38;5;129;01min\u001b[39;00m _iread(filename, index, \u001b[38;5;28mformat\u001b[39m, io, parallel\u001b[38;5;241m=\u001b[39mparallel,\n\u001b[1;32m    771\u001b[0m                     \u001b[38;5;241m*\u001b[39m\u001b[38;5;241m*\u001b[39mkwargs):\n\u001b[1;32m    772\u001b[0m     \u001b[38;5;28;01myield\u001b[39;00m atoms\n",
      "File \u001b[0;32m~/miniconda3/envs/pl_pyg/lib/python3.9/site-packages/ase/parallel.py:275\u001b[0m, in \u001b[0;36mparallel_generator.<locals>.new_generator\u001b[0;34m(*args, **kwargs)\u001b[0m\n\u001b[1;32m    269\u001b[0m \u001b[38;5;129m@functools\u001b[39m\u001b[38;5;241m.\u001b[39mwraps(generator)\n\u001b[1;32m    270\u001b[0m \u001b[38;5;28;01mdef\u001b[39;00m \u001b[38;5;21mnew_generator\u001b[39m(\u001b[38;5;241m*\u001b[39margs, \u001b[38;5;241m*\u001b[39m\u001b[38;5;241m*\u001b[39mkwargs):\n\u001b[1;32m    271\u001b[0m     \u001b[38;5;28;01mif\u001b[39;00m (world\u001b[38;5;241m.\u001b[39msize \u001b[38;5;241m==\u001b[39m \u001b[38;5;241m1\u001b[39m \u001b[38;5;129;01mor\u001b[39;00m\n\u001b[1;32m    272\u001b[0m         args \u001b[38;5;129;01mand\u001b[39;00m \u001b[38;5;28mgetattr\u001b[39m(args[\u001b[38;5;241m0\u001b[39m], \u001b[38;5;124m'\u001b[39m\u001b[38;5;124mserial\u001b[39m\u001b[38;5;124m'\u001b[39m, \u001b[38;5;28;01mFalse\u001b[39;00m) \u001b[38;5;129;01mor\u001b[39;00m\n\u001b[1;32m    273\u001b[0m         \u001b[38;5;129;01mnot\u001b[39;00m kwargs\u001b[38;5;241m.\u001b[39mpop(\u001b[38;5;124m'\u001b[39m\u001b[38;5;124mparallel\u001b[39m\u001b[38;5;124m'\u001b[39m, \u001b[38;5;28;01mTrue\u001b[39;00m)):\n\u001b[1;32m    274\u001b[0m         \u001b[38;5;66;03m# Disable:\u001b[39;00m\n\u001b[0;32m--> 275\u001b[0m         \u001b[38;5;28;01mfor\u001b[39;00m result \u001b[38;5;129;01min\u001b[39;00m generator(\u001b[38;5;241m*\u001b[39margs, \u001b[38;5;241m*\u001b[39m\u001b[38;5;241m*\u001b[39mkwargs):\n\u001b[1;32m    276\u001b[0m             \u001b[38;5;28;01myield\u001b[39;00m result\n\u001b[1;32m    277\u001b[0m         \u001b[38;5;28;01mreturn\u001b[39;00m\n",
      "File \u001b[0;32m~/miniconda3/envs/pl_pyg/lib/python3.9/site-packages/ase/io/formats.py:803\u001b[0m, in \u001b[0;36m_iread\u001b[0;34m(filename, index, format, io, parallel, full_output, **kwargs)\u001b[0m\n\u001b[1;32m    801\u001b[0m \u001b[38;5;66;03m# Make sure fd is closed in case loop doesn't finish:\u001b[39;00m\n\u001b[1;32m    802\u001b[0m \u001b[38;5;28;01mtry\u001b[39;00m:\n\u001b[0;32m--> 803\u001b[0m     \u001b[38;5;28;01mfor\u001b[39;00m dct \u001b[38;5;129;01min\u001b[39;00m io\u001b[38;5;241m.\u001b[39mread(fd, \u001b[38;5;241m*\u001b[39margs, \u001b[38;5;241m*\u001b[39m\u001b[38;5;241m*\u001b[39mkwargs):\n\u001b[1;32m    804\u001b[0m         \u001b[38;5;28;01mif\u001b[39;00m \u001b[38;5;129;01mnot\u001b[39;00m \u001b[38;5;28misinstance\u001b[39m(dct, \u001b[38;5;28mdict\u001b[39m):\n\u001b[1;32m    805\u001b[0m             dct \u001b[38;5;241m=\u001b[39m {\u001b[38;5;124m'\u001b[39m\u001b[38;5;124matoms\u001b[39m\u001b[38;5;124m'\u001b[39m: dct}\n",
      "File \u001b[0;32m~/miniconda3/envs/pl_pyg/lib/python3.9/site-packages/ase/io/formats.py:559\u001b[0m, in \u001b[0;36mwrap_read_function\u001b[0;34m(read, filename, index, **kwargs)\u001b[0m\n\u001b[1;32m    557\u001b[0m     \u001b[38;5;28;01myield\u001b[39;00m read(filename, \u001b[38;5;241m*\u001b[39m\u001b[38;5;241m*\u001b[39mkwargs)\n\u001b[1;32m    558\u001b[0m \u001b[38;5;28;01melse\u001b[39;00m:\n\u001b[0;32m--> 559\u001b[0m     \u001b[38;5;28;01mfor\u001b[39;00m atoms \u001b[38;5;129;01min\u001b[39;00m read(filename, index, \u001b[38;5;241m*\u001b[39m\u001b[38;5;241m*\u001b[39mkwargs):\n\u001b[1;32m    560\u001b[0m         \u001b[38;5;28;01myield\u001b[39;00m atoms\n",
      "File \u001b[0;32m~/miniconda3/envs/pl_pyg/lib/python3.9/site-packages/ase/io/extxyz.py:760\u001b[0m, in \u001b[0;36mread_xyz\u001b[0;34m(fileobj, index, properties_parser)\u001b[0m\n\u001b[1;32m    758\u001b[0m             \u001b[38;5;28;01mraise\u001b[39;00m XYZError(\u001b[38;5;124m'\u001b[39m\u001b[38;5;124mase.io.extxyz: More than 3 VECX entries\u001b[39m\u001b[38;5;124m'\u001b[39m)\n\u001b[1;32m    759\u001b[0m     \u001b[38;5;28;01melse\u001b[39;00m:\n\u001b[0;32m--> 760\u001b[0m         \u001b[43mfileobj\u001b[49m\u001b[38;5;241;43m.\u001b[39;49m\u001b[43mseek\u001b[49m\u001b[43m(\u001b[49m\u001b[43mlastPos\u001b[49m\u001b[43m)\u001b[49m\n\u001b[1;32m    761\u001b[0m         \u001b[38;5;28;01mbreak\u001b[39;00m\n\u001b[1;32m    762\u001b[0m frames\u001b[38;5;241m.\u001b[39mappend((frame_pos, natoms, nvec))\n",
      "File \u001b[0;32m~/miniconda3/envs/pl_pyg/lib/python3.9/lzma.py:261\u001b[0m, in \u001b[0;36mLZMAFile.seek\u001b[0;34m(self, offset, whence)\u001b[0m\n\u001b[1;32m    246\u001b[0m \u001b[38;5;250m\u001b[39m\u001b[38;5;124;03m\"\"\"Change the file position.\u001b[39;00m\n\u001b[1;32m    247\u001b[0m \n\u001b[1;32m    248\u001b[0m \u001b[38;5;124;03mThe new position is specified by offset, relative to the\u001b[39;00m\n\u001b[0;32m   (...)\u001b[0m\n\u001b[1;32m    258\u001b[0m \u001b[38;5;124;03mthis operation may be extremely slow.\u001b[39;00m\n\u001b[1;32m    259\u001b[0m \u001b[38;5;124;03m\"\"\"\u001b[39;00m\n\u001b[1;32m    260\u001b[0m \u001b[38;5;28mself\u001b[39m\u001b[38;5;241m.\u001b[39m_check_can_seek()\n\u001b[0;32m--> 261\u001b[0m \u001b[38;5;28;01mreturn\u001b[39;00m \u001b[38;5;28;43mself\u001b[39;49m\u001b[38;5;241;43m.\u001b[39;49m\u001b[43m_buffer\u001b[49m\u001b[38;5;241;43m.\u001b[39;49m\u001b[43mseek\u001b[49m\u001b[43m(\u001b[49m\u001b[43moffset\u001b[49m\u001b[43m,\u001b[49m\u001b[43m \u001b[49m\u001b[43mwhence\u001b[49m\u001b[43m)\u001b[49m\n",
      "File \u001b[0;32m~/miniconda3/envs/pl_pyg/lib/python3.9/_compression.py:143\u001b[0m, in \u001b[0;36mDecompressReader.seek\u001b[0;34m(self, offset, whence)\u001b[0m\n\u001b[1;32m    141\u001b[0m \u001b[38;5;66;03m# Read and discard data until we reach the desired position.\u001b[39;00m\n\u001b[1;32m    142\u001b[0m \u001b[38;5;28;01mwhile\u001b[39;00m offset \u001b[38;5;241m>\u001b[39m \u001b[38;5;241m0\u001b[39m:\n\u001b[0;32m--> 143\u001b[0m     data \u001b[38;5;241m=\u001b[39m \u001b[38;5;28;43mself\u001b[39;49m\u001b[38;5;241;43m.\u001b[39;49m\u001b[43mread\u001b[49m\u001b[43m(\u001b[49m\u001b[38;5;28;43mmin\u001b[39;49m\u001b[43m(\u001b[49m\u001b[43mio\u001b[49m\u001b[38;5;241;43m.\u001b[39;49m\u001b[43mDEFAULT_BUFFER_SIZE\u001b[49m\u001b[43m,\u001b[49m\u001b[43m \u001b[49m\u001b[43moffset\u001b[49m\u001b[43m)\u001b[49m\u001b[43m)\u001b[49m\n\u001b[1;32m    144\u001b[0m     \u001b[38;5;28;01mif\u001b[39;00m \u001b[38;5;129;01mnot\u001b[39;00m data:\n\u001b[1;32m    145\u001b[0m         \u001b[38;5;28;01mbreak\u001b[39;00m\n",
      "File \u001b[0;32m~/miniconda3/envs/pl_pyg/lib/python3.9/_compression.py:103\u001b[0m, in \u001b[0;36mDecompressReader.read\u001b[0;34m(self, size)\u001b[0m\n\u001b[1;32m    101\u001b[0m     \u001b[38;5;28;01melse\u001b[39;00m:\n\u001b[1;32m    102\u001b[0m         rawblock \u001b[38;5;241m=\u001b[39m \u001b[38;5;124mb\u001b[39m\u001b[38;5;124m\"\u001b[39m\u001b[38;5;124m\"\u001b[39m\n\u001b[0;32m--> 103\u001b[0m     data \u001b[38;5;241m=\u001b[39m \u001b[38;5;28;43mself\u001b[39;49m\u001b[38;5;241;43m.\u001b[39;49m\u001b[43m_decompressor\u001b[49m\u001b[38;5;241;43m.\u001b[39;49m\u001b[43mdecompress\u001b[49m\u001b[43m(\u001b[49m\u001b[43mrawblock\u001b[49m\u001b[43m,\u001b[49m\u001b[43m \u001b[49m\u001b[43msize\u001b[49m\u001b[43m)\u001b[49m\n\u001b[1;32m    104\u001b[0m \u001b[38;5;28;01mif\u001b[39;00m data:\n\u001b[1;32m    105\u001b[0m     \u001b[38;5;28;01mbreak\u001b[39;00m\n",
      "\u001b[0;31mKeyboardInterrupt\u001b[0m: "
     ]
    }
   ],
   "source": [
    "data = next(data_iter)"
   ]
  },
  {
   "cell_type": "code",
   "execution_count": 22,
   "metadata": {
    "metadata": {}
   },
   "outputs": [
    {
     "name": "stderr",
     "output_type": "stream",
     "text": [
      "  0%|          | 0/800 [00:00<?, ?it/s]"
     ]
    },
    {
     "name": "stderr",
     "output_type": "stream",
     "text": [
      "100%|██████████| 800/800 [14:47<00:00,  1.11s/it]\n"
     ]
    }
   ],
   "source": [
    "import os\n",
    "import lzma\n",
    "from tqdm import tqdm\n",
    "\n",
    "# Directory containing the .xz files\n",
    "directory = '/mnt/petrelfs/linchen/FoundationalModel/data/oc20/s2ef_train_2M/s2ef_train_2M'\n",
    "\n",
    "# Decompress each .xz file in the directory\n",
    "for filename in tqdm(os.listdir(directory)):\n",
    "    if filename.endswith(\".xz\"):\n",
    "        file_path = os.path.join(directory, filename)\n",
    "        with lzma.open(file_path) as compressed_file:\n",
    "            decompressed_data = compressed_file.read()\n",
    "        output_file_path = os.path.splitext(file_path)[0]\n",
    "        with open(output_file_path, 'wb') as output_file:\n",
    "            output_file.write(decompressed_data)\n",
    "        os.remove(file_path)\n",
    "\n"
   ]
  },
  {
   "cell_type": "code",
   "execution_count": 11,
   "metadata": {
    "metadata": {}
   },
   "outputs": [],
   "source": [
    "import ase\n",
    "from ase.io import extxyz\n",
    "\n",
    "identifier = \"/mnt/petrelfs/linchen/FoundationalModel/data/oc20/s2ef_train_2M/s2ef_train_2M/181.extxyz\"\n",
    "datas = ase.io.read(f\"{identifier}\", index=\":\")"
   ]
  },
  {
   "cell_type": "code",
   "execution_count": 23,
   "metadata": {
    "metadata": {}
   },
   "outputs": [
    {
     "data": {
      "text/plain": [
       "list"
      ]
     },
     "execution_count": 23,
     "metadata": {},
     "output_type": "execute_result"
    }
   ],
   "source": [
    "type(datas)"
   ]
  },
  {
   "cell_type": "code",
   "execution_count": 26,
   "metadata": {
    "metadata": {}
   },
   "outputs": [
    {
     "data": {
      "text/plain": [
       "array([40, 40, 40, 40, 40, 40, 40, 40, 40, 40, 40, 40, 40, 40, 40, 40, 40,\n",
       "       40, 40, 40, 40, 40, 40, 40, 40, 40, 40, 40, 40, 40, 40, 40, 40, 40,\n",
       "       40, 40, 40, 40, 40, 40, 40, 40, 40, 40, 40, 40, 40, 40, 40, 40, 40,\n",
       "       40, 40, 40, 40, 40, 40, 40, 40, 40, 50, 50, 50, 50, 50, 50, 50, 50,\n",
       "       50, 50, 50, 50, 50, 50, 50, 50, 50, 50, 50, 50, 50, 50, 50, 50, 50,\n",
       "       50, 50, 50, 50, 50, 50, 50, 50, 50, 50, 50,  6,  6,  1,  1,  1,  8,\n",
       "        8])"
      ]
     },
     "execution_count": 26,
     "metadata": {},
     "output_type": "execute_result"
    }
   ],
   "source": [
    "datas[0].info['energy']\n",
    "datas[0].arrays['forces']\n",
    "datas[0].numbers"
   ]
  },
  {
   "cell_type": "code",
   "execution_count": 28,
   "metadata": {
    "metadata": {}
   },
   "outputs": [],
   "source": [
    "def atoms_from_oc20(file_path, positions_key='coordinates', numbers_key=\"species\", energy_key='energies', forces_key='forces'):\n",
    "    atoms_list = []\n",
    "    for filename in tqdm(os.listdir(file_path)):\n",
    "        if filename.endswith(\".extxyz\"):\n",
    "            identifier = os.path.join(file_path, filename)\n",
    "            atoms_list += ase.io.read(identifier, index=\":\")\n",
    "\n",
    "    return atoms_list"
   ]
  },
  {
   "cell_type": "code",
   "execution_count": 29,
   "metadata": {
    "metadata": {}
   },
   "outputs": [
    {
     "name": "stderr",
     "output_type": "stream",
     "text": [
      "  2%|▎         | 20/800 [01:44<1:08:05,  5.24s/it]\n"
     ]
    },
    {
     "ename": "KeyboardInterrupt",
     "evalue": "",
     "output_type": "error",
     "traceback": [
      "\u001b[0;31m---------------------------------------------------------------------------\u001b[0m",
      "\u001b[0;31mKeyboardInterrupt\u001b[0m                         Traceback (most recent call last)",
      "Cell \u001b[0;32mIn[29], line 1\u001b[0m\n\u001b[0;32m----> 1\u001b[0m atom_list \u001b[38;5;241m=\u001b[39m \u001b[43matoms_from_oc20\u001b[49m\u001b[43m(\u001b[49m\u001b[38;5;124;43m\"\u001b[39;49m\u001b[38;5;124;43m/mnt/petrelfs/linchen/FoundationalModel/data/oc20/s2ef_train_2M/s2ef_train_2M\u001b[39;49m\u001b[38;5;124;43m\"\u001b[39;49m\u001b[43m)\u001b[49m\n",
      "Cell \u001b[0;32mIn[28], line 6\u001b[0m, in \u001b[0;36matoms_from_oc20\u001b[0;34m(file_path, positions_key, numbers_key, energy_key, forces_key)\u001b[0m\n\u001b[1;32m      4\u001b[0m     \u001b[38;5;28;01mif\u001b[39;00m filename\u001b[38;5;241m.\u001b[39mendswith(\u001b[38;5;124m\"\u001b[39m\u001b[38;5;124m.extxyz\u001b[39m\u001b[38;5;124m\"\u001b[39m):\n\u001b[1;32m      5\u001b[0m         identifier \u001b[38;5;241m=\u001b[39m os\u001b[38;5;241m.\u001b[39mpath\u001b[38;5;241m.\u001b[39mjoin(file_path, filename)\n\u001b[0;32m----> 6\u001b[0m         atoms_list \u001b[38;5;241m+\u001b[39m\u001b[38;5;241m=\u001b[39m \u001b[43mase\u001b[49m\u001b[38;5;241;43m.\u001b[39;49m\u001b[43mio\u001b[49m\u001b[38;5;241;43m.\u001b[39;49m\u001b[43mread\u001b[49m\u001b[43m(\u001b[49m\u001b[43midentifier\u001b[49m\u001b[43m,\u001b[49m\u001b[43m \u001b[49m\u001b[43mindex\u001b[49m\u001b[38;5;241;43m=\u001b[39;49m\u001b[38;5;124;43m\"\u001b[39;49m\u001b[38;5;124;43m:\u001b[39;49m\u001b[38;5;124;43m\"\u001b[39;49m\u001b[43m)\u001b[49m\n\u001b[1;32m      8\u001b[0m \u001b[38;5;28;01mreturn\u001b[39;00m atoms_list\n",
      "File \u001b[0;32m~/miniconda3/envs/pl_pyg/lib/python3.9/site-packages/ase/io/formats.py:733\u001b[0m, in \u001b[0;36mread\u001b[0;34m(filename, index, format, parallel, do_not_split_by_at_sign, **kwargs)\u001b[0m\n\u001b[1;32m    731\u001b[0m io \u001b[38;5;241m=\u001b[39m get_ioformat(\u001b[38;5;28mformat\u001b[39m)\n\u001b[1;32m    732\u001b[0m \u001b[38;5;28;01mif\u001b[39;00m \u001b[38;5;28misinstance\u001b[39m(index, (\u001b[38;5;28mslice\u001b[39m, \u001b[38;5;28mstr\u001b[39m)):\n\u001b[0;32m--> 733\u001b[0m     \u001b[38;5;28;01mreturn\u001b[39;00m \u001b[38;5;28;43mlist\u001b[39;49m\u001b[43m(\u001b[49m\u001b[43m_iread\u001b[49m\u001b[43m(\u001b[49m\u001b[43mfilename\u001b[49m\u001b[43m,\u001b[49m\u001b[43m \u001b[49m\u001b[43mindex\u001b[49m\u001b[43m,\u001b[49m\u001b[43m \u001b[49m\u001b[38;5;28;43mformat\u001b[39;49m\u001b[43m,\u001b[49m\u001b[43m \u001b[49m\u001b[43mio\u001b[49m\u001b[43m,\u001b[49m\u001b[43m \u001b[49m\u001b[43mparallel\u001b[49m\u001b[38;5;241;43m=\u001b[39;49m\u001b[43mparallel\u001b[49m\u001b[43m,\u001b[49m\n\u001b[1;32m    734\u001b[0m \u001b[43m                       \u001b[49m\u001b[38;5;241;43m*\u001b[39;49m\u001b[38;5;241;43m*\u001b[39;49m\u001b[43mkwargs\u001b[49m\u001b[43m)\u001b[49m\u001b[43m)\u001b[49m\n\u001b[1;32m    735\u001b[0m \u001b[38;5;28;01melse\u001b[39;00m:\n\u001b[1;32m    736\u001b[0m     \u001b[38;5;28;01mreturn\u001b[39;00m \u001b[38;5;28mnext\u001b[39m(_iread(filename, \u001b[38;5;28mslice\u001b[39m(index, \u001b[38;5;28;01mNone\u001b[39;00m), \u001b[38;5;28mformat\u001b[39m, io,\n\u001b[1;32m    737\u001b[0m                        parallel\u001b[38;5;241m=\u001b[39mparallel, \u001b[38;5;241m*\u001b[39m\u001b[38;5;241m*\u001b[39mkwargs))\n",
      "File \u001b[0;32m~/miniconda3/envs/pl_pyg/lib/python3.9/site-packages/ase/parallel.py:275\u001b[0m, in \u001b[0;36mparallel_generator.<locals>.new_generator\u001b[0;34m(*args, **kwargs)\u001b[0m\n\u001b[1;32m    269\u001b[0m \u001b[38;5;129m@functools\u001b[39m\u001b[38;5;241m.\u001b[39mwraps(generator)\n\u001b[1;32m    270\u001b[0m \u001b[38;5;28;01mdef\u001b[39;00m \u001b[38;5;21mnew_generator\u001b[39m(\u001b[38;5;241m*\u001b[39margs, \u001b[38;5;241m*\u001b[39m\u001b[38;5;241m*\u001b[39mkwargs):\n\u001b[1;32m    271\u001b[0m     \u001b[38;5;28;01mif\u001b[39;00m (world\u001b[38;5;241m.\u001b[39msize \u001b[38;5;241m==\u001b[39m \u001b[38;5;241m1\u001b[39m \u001b[38;5;129;01mor\u001b[39;00m\n\u001b[1;32m    272\u001b[0m         args \u001b[38;5;129;01mand\u001b[39;00m \u001b[38;5;28mgetattr\u001b[39m(args[\u001b[38;5;241m0\u001b[39m], \u001b[38;5;124m'\u001b[39m\u001b[38;5;124mserial\u001b[39m\u001b[38;5;124m'\u001b[39m, \u001b[38;5;28;01mFalse\u001b[39;00m) \u001b[38;5;129;01mor\u001b[39;00m\n\u001b[1;32m    273\u001b[0m         \u001b[38;5;129;01mnot\u001b[39;00m kwargs\u001b[38;5;241m.\u001b[39mpop(\u001b[38;5;124m'\u001b[39m\u001b[38;5;124mparallel\u001b[39m\u001b[38;5;124m'\u001b[39m, \u001b[38;5;28;01mTrue\u001b[39;00m)):\n\u001b[1;32m    274\u001b[0m         \u001b[38;5;66;03m# Disable:\u001b[39;00m\n\u001b[0;32m--> 275\u001b[0m         \u001b[38;5;28;01mfor\u001b[39;00m result \u001b[38;5;129;01min\u001b[39;00m generator(\u001b[38;5;241m*\u001b[39margs, \u001b[38;5;241m*\u001b[39m\u001b[38;5;241m*\u001b[39mkwargs):\n\u001b[1;32m    276\u001b[0m             \u001b[38;5;28;01myield\u001b[39;00m result\n\u001b[1;32m    277\u001b[0m         \u001b[38;5;28;01mreturn\u001b[39;00m\n",
      "File \u001b[0;32m~/miniconda3/envs/pl_pyg/lib/python3.9/site-packages/ase/io/formats.py:803\u001b[0m, in \u001b[0;36m_iread\u001b[0;34m(filename, index, format, io, parallel, full_output, **kwargs)\u001b[0m\n\u001b[1;32m    801\u001b[0m \u001b[38;5;66;03m# Make sure fd is closed in case loop doesn't finish:\u001b[39;00m\n\u001b[1;32m    802\u001b[0m \u001b[38;5;28;01mtry\u001b[39;00m:\n\u001b[0;32m--> 803\u001b[0m     \u001b[38;5;28;01mfor\u001b[39;00m dct \u001b[38;5;129;01min\u001b[39;00m io\u001b[38;5;241m.\u001b[39mread(fd, \u001b[38;5;241m*\u001b[39margs, \u001b[38;5;241m*\u001b[39m\u001b[38;5;241m*\u001b[39mkwargs):\n\u001b[1;32m    804\u001b[0m         \u001b[38;5;28;01mif\u001b[39;00m \u001b[38;5;129;01mnot\u001b[39;00m \u001b[38;5;28misinstance\u001b[39m(dct, \u001b[38;5;28mdict\u001b[39m):\n\u001b[1;32m    805\u001b[0m             dct \u001b[38;5;241m=\u001b[39m {\u001b[38;5;124m'\u001b[39m\u001b[38;5;124matoms\u001b[39m\u001b[38;5;124m'\u001b[39m: dct}\n",
      "File \u001b[0;32m~/miniconda3/envs/pl_pyg/lib/python3.9/site-packages/ase/io/formats.py:559\u001b[0m, in \u001b[0;36mwrap_read_function\u001b[0;34m(read, filename, index, **kwargs)\u001b[0m\n\u001b[1;32m    557\u001b[0m     \u001b[38;5;28;01myield\u001b[39;00m read(filename, \u001b[38;5;241m*\u001b[39m\u001b[38;5;241m*\u001b[39mkwargs)\n\u001b[1;32m    558\u001b[0m \u001b[38;5;28;01melse\u001b[39;00m:\n\u001b[0;32m--> 559\u001b[0m     \u001b[38;5;28;01mfor\u001b[39;00m atoms \u001b[38;5;129;01min\u001b[39;00m read(filename, index, \u001b[38;5;241m*\u001b[39m\u001b[38;5;241m*\u001b[39mkwargs):\n\u001b[1;32m    560\u001b[0m         \u001b[38;5;28;01myield\u001b[39;00m atoms\n",
      "File \u001b[0;32m~/miniconda3/envs/pl_pyg/lib/python3.9/site-packages/ase/io/extxyz.py:773\u001b[0m, in \u001b[0;36mread_xyz\u001b[0;34m(fileobj, index, properties_parser)\u001b[0m\n\u001b[1;32m    771\u001b[0m \u001b[38;5;66;03m# check for consistency with frame index table\u001b[39;00m\n\u001b[1;32m    772\u001b[0m \u001b[38;5;28;01massert\u001b[39;00m \u001b[38;5;28mint\u001b[39m(fileobj\u001b[38;5;241m.\u001b[39mreadline()) \u001b[38;5;241m==\u001b[39m natoms\n\u001b[0;32m--> 773\u001b[0m \u001b[38;5;28;01myield\u001b[39;00m \u001b[43m_read_xyz_frame\u001b[49m\u001b[43m(\u001b[49m\u001b[43mfileobj\u001b[49m\u001b[43m,\u001b[49m\u001b[43m \u001b[49m\u001b[43mnatoms\u001b[49m\u001b[43m,\u001b[49m\u001b[43m \u001b[49m\u001b[43mproperties_parser\u001b[49m\u001b[43m,\u001b[49m\u001b[43m \u001b[49m\u001b[43mnvec\u001b[49m\u001b[43m)\u001b[49m\n",
      "File \u001b[0;32m~/miniconda3/envs/pl_pyg/lib/python3.9/site-packages/ase/io/extxyz.py:459\u001b[0m, in \u001b[0;36m_read_xyz_frame\u001b[0;34m(lines, natoms, properties_parser, nvec)\u001b[0m\n\u001b[1;32m    457\u001b[0m         value \u001b[38;5;241m=\u001b[39m data[name]\n\u001b[1;32m    458\u001b[0m     \u001b[38;5;28;01melse\u001b[39;00m:\n\u001b[0;32m--> 459\u001b[0m         value \u001b[38;5;241m=\u001b[39m \u001b[43mnp\u001b[49m\u001b[38;5;241;43m.\u001b[39;49m\u001b[43mvstack\u001b[49m\u001b[43m(\u001b[49m\u001b[43m[\u001b[49m\u001b[43mdata\u001b[49m\u001b[43m[\u001b[49m\u001b[43mname\u001b[49m\u001b[43m \u001b[49m\u001b[38;5;241;43m+\u001b[39;49m\u001b[43m \u001b[49m\u001b[38;5;28;43mstr\u001b[39;49m\u001b[43m(\u001b[49m\u001b[43mc\u001b[49m\u001b[43m)\u001b[49m\u001b[43m]\u001b[49m\n\u001b[1;32m    460\u001b[0m \u001b[43m                           \u001b[49m\u001b[38;5;28;43;01mfor\u001b[39;49;00m\u001b[43m \u001b[49m\u001b[43mc\u001b[49m\u001b[43m \u001b[49m\u001b[38;5;129;43;01min\u001b[39;49;00m\u001b[43m \u001b[49m\u001b[38;5;28;43mrange\u001b[39;49m\u001b[43m(\u001b[49m\u001b[43mcols\u001b[49m\u001b[43m)\u001b[49m\u001b[43m]\u001b[49m\u001b[43m)\u001b[49m\u001b[38;5;241m.\u001b[39mT\n\u001b[1;32m    461\u001b[0m     arrays[ase_name] \u001b[38;5;241m=\u001b[39m value\n\u001b[1;32m    463\u001b[0m symbols \u001b[38;5;241m=\u001b[39m \u001b[38;5;28;01mNone\u001b[39;00m\n",
      "File \u001b[0;32m~/miniconda3/envs/pl_pyg/lib/python3.9/site-packages/numpy/core/shape_base.py:289\u001b[0m, in \u001b[0;36mvstack\u001b[0;34m(tup, dtype, casting)\u001b[0m\n\u001b[1;32m    287\u001b[0m \u001b[38;5;28;01mif\u001b[39;00m \u001b[38;5;129;01mnot\u001b[39;00m \u001b[38;5;28misinstance\u001b[39m(arrs, \u001b[38;5;28mlist\u001b[39m):\n\u001b[1;32m    288\u001b[0m     arrs \u001b[38;5;241m=\u001b[39m [arrs]\n\u001b[0;32m--> 289\u001b[0m \u001b[38;5;28;01mreturn\u001b[39;00m \u001b[43m_nx\u001b[49m\u001b[38;5;241;43m.\u001b[39;49m\u001b[43mconcatenate\u001b[49m\u001b[43m(\u001b[49m\u001b[43marrs\u001b[49m\u001b[43m,\u001b[49m\u001b[43m \u001b[49m\u001b[38;5;241;43m0\u001b[39;49m\u001b[43m,\u001b[49m\u001b[43m \u001b[49m\u001b[43mdtype\u001b[49m\u001b[38;5;241;43m=\u001b[39;49m\u001b[43mdtype\u001b[49m\u001b[43m,\u001b[49m\u001b[43m \u001b[49m\u001b[43mcasting\u001b[49m\u001b[38;5;241;43m=\u001b[39;49m\u001b[43mcasting\u001b[49m\u001b[43m)\u001b[49m\n",
      "\u001b[0;31mKeyboardInterrupt\u001b[0m: "
     ]
    }
   ],
   "source": [
    "atom_list = atoms_from_oc20(\"/mnt/petrelfs/linchen/FoundationalModel/data/oc20/s2ef_train_2M/s2ef_train_2M\")"
   ]
  },
  {
   "cell_type": "code",
   "execution_count": 3,
   "metadata": {
    "metadata": {}
   },
   "outputs": [],
   "source": [
    "import os\n",
    "from tqdm import tqdm\n",
    "import ase.io\n",
    "from multiprocessing import Pool, cpu_count\n",
    "\n",
    "\n",
    "\n",
    "def atoms_from_oc20(file_path):\n",
    "    filenames = [f for f in os.listdir(file_path) if f.endswith(\".extxyz\")]\n",
    "    identifiers = [os.path.join(file_path, f) for f in filenames if f.endswith(\".extxyz\")]\n",
    "\n",
    "    def read_atoms_file(identifier):\n",
    "        return ase.io.read(identifier, index=\":\")\n",
    "    \n",
    "    with Pool(16) as pool:\n",
    "        results = list(tqdm(pool.imap(read_atoms_file, identifiers), total=len(identifiers)))\n",
    "    \n",
    "    # Flatten the list of lists\n",
    "    atoms_list = [atom for sublist in results for atom in sublist]\n",
    "    \n",
    "    return atoms_list"
   ]
  },
  {
   "cell_type": "code",
   "execution_count": 4,
   "metadata": {
    "metadata": {}
   },
   "outputs": [
    {
     "name": "stderr",
     "output_type": "stream",
     "text": [
      "  0%|          | 0/400 [00:00<?, ?it/s]"
     ]
    },
    {
     "name": "stderr",
     "output_type": "stream",
     "text": [
      "100%|██████████| 400/400 [15:55<00:00,  2.39s/it]\n"
     ]
    }
   ],
   "source": [
    "atom_list = atoms_from_oc20(\"/mnt/petrelfs/linchen/FoundationalModel/data/oc20/s2ef_train_2M/s2ef_train_2M\")"
   ]
  },
  {
   "cell_type": "code",
   "execution_count": 5,
   "metadata": {
    "metadata": {}
   },
   "outputs": [
    {
     "data": {
      "text/plain": [
       "Atoms(symbols='C2H4OZn48Zr16', pbc=True, cell=[[11.91010939, 0.0, 0.0], [5.95505469, 10.31445729, 4.43373582], [0.0, 0.0, 31.03615074]], forces=..., tags=..., constraint=FixAtoms(indices=[0, 1, 2, 3, 4, 8, 9, 10, 11, 12, 16, 17, 18, 19, 20, 21, 22, 23, 24, 25, 26, 27, 29, 31, 33, 36, 40, 41, 42, 43, 44, 45, 46, 47, 48, 49, 50, 51, 53, 55, 57, 60]), calculator=SinglePointCalculator(...))"
      ]
     },
     "execution_count": 5,
     "metadata": {},
     "output_type": "execute_result"
    }
   ],
   "source": [
    "atom_list[0]"
   ]
  },
  {
   "cell_type": "code",
   "execution_count": null,
   "metadata": {},
   "outputs": [],
   "source": []
  }
 ],
 "metadata": {
  "kernelspec": {
   "display_name": "pl_pyg",
   "language": "python",
   "name": "python3"
  },
  "language_info": {
   "codemirror_mode": {
    "name": "ipython",
    "version": 3
   },
   "file_extension": ".py",
   "mimetype": "text/x-python",
   "name": "python",
   "nbconvert_exporter": "python",
   "pygments_lexer": "ipython3",
   "version": "3.9.19"
  }
 },
 "nbformat": 4,
 "nbformat_minor": 2
}
